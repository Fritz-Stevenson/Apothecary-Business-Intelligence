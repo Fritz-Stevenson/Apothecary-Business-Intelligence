{
 "cells": [
  {
   "cell_type": "code",
   "execution_count": 11,
   "metadata": {},
   "outputs": [
    {
     "data": {
      "text/html": [
       "<div>\n",
       "<style scoped>\n",
       "    .dataframe tbody tr th:only-of-type {\n",
       "        vertical-align: middle;\n",
       "    }\n",
       "\n",
       "    .dataframe tbody tr th {\n",
       "        vertical-align: top;\n",
       "    }\n",
       "\n",
       "    .dataframe thead th {\n",
       "        text-align: right;\n",
       "    }\n",
       "</style>\n",
       "<table border=\"1\" class=\"dataframe\">\n",
       "  <thead>\n",
       "    <tr style=\"text-align: right;\">\n",
       "      <th></th>\n",
       "      <th>Order Date</th>\n",
       "      <th>Email (Billing)</th>\n",
       "    </tr>\n",
       "  </thead>\n",
       "  <tbody>\n",
       "    <tr>\n",
       "      <th>0</th>\n",
       "      <td>2020-09-01 01:33</td>\n",
       "      <td>manitoed1678@gmail.com</td>\n",
       "    </tr>\n",
       "    <tr>\n",
       "      <th>1</th>\n",
       "      <td>2020-09-01 03:26</td>\n",
       "      <td>mstuartrollins97@gmail.com</td>\n",
       "    </tr>\n",
       "    <tr>\n",
       "      <th>2</th>\n",
       "      <td>2020-09-01 04:32</td>\n",
       "      <td>chip@uticahempco.com</td>\n",
       "    </tr>\n",
       "    <tr>\n",
       "      <th>3</th>\n",
       "      <td>2020-09-01 06:25</td>\n",
       "      <td>kjlang127@hotmail.com</td>\n",
       "    </tr>\n",
       "    <tr>\n",
       "      <th>4</th>\n",
       "      <td>2020-09-01 07:43</td>\n",
       "      <td>tmpreece@comcast.net</td>\n",
       "    </tr>\n",
       "  </tbody>\n",
       "</table>\n",
       "</div>"
      ],
      "text/plain": [
       "         Order Date             Email (Billing)\n",
       "0  2020-09-01 01:33      manitoed1678@gmail.com\n",
       "1  2020-09-01 03:26  mstuartrollins97@gmail.com\n",
       "2  2020-09-01 04:32        chip@uticahempco.com\n",
       "3  2020-09-01 06:25       kjlang127@hotmail.com\n",
       "4  2020-09-01 07:43        tmpreece@comcast.net"
      ]
     },
     "execution_count": 11,
     "metadata": {},
     "output_type": "execute_result"
    }
   ],
   "source": [
    "import pandas as pd\n",
    "import os\n",
    "from datetime import datetime\n",
    "#up to date data with columns for date and billing email\n",
    "old_data = pd.read_csv('concat_file.csv', usecols=['Order Date', 'Email (Billing)'])\n",
    "new_data = pd.read_csv('orders03-21.csv')\n",
    "#concatenates into a single object\n",
    "final_data_object = pd.concat([old_data, new_data])\n",
    "final_data_object.head(5)\n"
   ]
  },
  {
   "cell_type": "markdown",
   "metadata": {},
   "source": [
    "The above cell provides a snippet of the final_data_object pandas dataframe. \n",
    "\n",
    "The old_data and new_data objects have been shared via email."
   ]
  },
  {
   "cell_type": "code",
   "execution_count": 12,
   "metadata": {},
   "outputs": [],
   "source": [
    "def date_difference_proof(obj):\n",
    "    '''Iterates over the rows in a pandas object to find the date since purchase and return emails whose last purchase\n",
    "    is older than the date_parameter\n",
    "    \n",
    "    ARGS:\n",
    "        obj = pandas object for iteration\n",
    "    \n",
    "    Returns:\n",
    "        list of emails for sales email implementation'''\n",
    "    current_time = datetime.now()\n",
    "    email_list = []\n",
    "    date_parameter = 50 #all emails for 50 days since last purchase\n",
    "    for index, row in obj.iterrows():\n",
    "        date = row['Order Date']\n",
    "        email = row['Email (Billing)']\n",
    "        datetime_object = datetime.strptime(date, \"%Y-%m-%d %H:%M\")\n",
    "        difference = current_time - datetime_object\n",
    "        email_list.append((email, difference.days))\n",
    "        #if the difference between today and purchase is less than the date_parameter, remove email from list\n",
    "        if difference.days < date_parameter: \n",
    "            for i in email_list:\n",
    "                if email in i:\n",
    "                    email_list.remove(i)\n",
    "    return print(sorted(list(set(email_list))), lambda x: x[1])\n",
    "#date_difference_proof(final_data_object)"
   ]
  },
  {
   "cell_type": "markdown",
   "metadata": {},
   "source": [
    "Here we can verify that the code is indeed working, providing a sorted list of emails with the number of days\n",
    "since last sale.\n",
    "\n",
    "It has been sorted alphabetically to verify there are no duplicates. \n",
    "\n",
    "To Implement, simply delete the hash on the last line.\n",
    "\n",
    "However, this list cannot be applied easily to an email. So a final treated function will be provided below."
   ]
  },
  {
   "cell_type": "code",
   "execution_count": 13,
   "metadata": {},
   "outputs": [],
   "source": [
    "def date_difference_email_ready(obj):\n",
    "    '''Iterates over the rows in a pandas object to find the date since purchase and return emails whose last purchase\n",
    "    is older than the date_parameter\n",
    "    \n",
    "    ARGS:\n",
    "        obj = pandas object for iteration\n",
    "    \n",
    "    Returns:\n",
    "        list of emails for sales email implementation'''\n",
    "    current_time = datetime.now()\n",
    "    email_list = []\n",
    "    date_parameter = 50 #all emails for 50 days since last purchase\n",
    "    for index, row in obj.iterrows():\n",
    "        date = row['Order Date']\n",
    "        email = row['Email (Billing)']\n",
    "        datetime_object = datetime.strptime(date, \"%Y-%m-%d %H:%M\")\n",
    "        difference = current_time - datetime_object\n",
    "        email_list.append(email)\n",
    "        #if the difference between today and purchase is less than the date_parameter, remove email from list\n",
    "        if difference.days < date_parameter: \n",
    "            if email in email_list:\n",
    "                email_list.remove(email)\n",
    "    return print(list(set(email_list)))\n",
    "#date_difference_email_ready(final_data_object)"
   ]
  },
  {
   "cell_type": "markdown",
   "metadata": {},
   "source": [
    "This function will return an email list that can be copied and pasted for email add implementation.\n",
    "\n",
    "Like the cell above, simply delete the hash on the bottom line of the cell."
   ]
  },
  {
   "cell_type": "code",
   "execution_count": null,
   "metadata": {},
   "outputs": [],
   "source": []
  }
 ],
 "metadata": {
  "kernelspec": {
   "display_name": "Python 3",
   "language": "python",
   "name": "python3"
  },
  "language_info": {
   "codemirror_mode": {
    "name": "ipython",
    "version": 3
   },
   "file_extension": ".py",
   "mimetype": "text/x-python",
   "name": "python",
   "nbconvert_exporter": "python",
   "pygments_lexer": "ipython3",
   "version": "3.8.3"
  }
 },
 "nbformat": 4,
 "nbformat_minor": 4
}
